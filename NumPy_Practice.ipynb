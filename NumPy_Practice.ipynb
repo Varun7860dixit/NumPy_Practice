{
  "nbformat": 4,
  "nbformat_minor": 0,
  "metadata": {
    "colab": {
      "provenance": [],
      "authorship_tag": "ABX9TyNtzVlmz6K4wzeSP58pTUIn",
      "include_colab_link": true
    },
    "kernelspec": {
      "name": "python3",
      "display_name": "Python 3"
    },
    "language_info": {
      "name": "python"
    }
  },
  "cells": [
    {
      "cell_type": "markdown",
      "metadata": {
        "id": "view-in-github",
        "colab_type": "text"
      },
      "source": [
        "<a href=\"https://colab.research.google.com/github/Varun7860dixit/NumPy_Practice/blob/main/NumPy_Practice.ipynb\" target=\"_parent\"><img src=\"https://colab.research.google.com/assets/colab-badge.svg\" alt=\"Open In Colab\"/></a>"
      ]
    },
    {
      "cell_type": "markdown",
      "source": [
        "### 1. Write a program to create a 3x3 NumPy array filled with random integers between 1 and 50. Print the array and its shape."
      ],
      "metadata": {
        "id": "1PWgQXhUa9v7"
      }
    },
    {
      "cell_type": "code",
      "source": [
        "import numpy as np\n",
        "arr = np.random.randint(1,51,size=(3,5))\n",
        "print(arr)\n",
        "print(arr.shape)"
      ],
      "metadata": {
        "colab": {
          "base_uri": "https://localhost:8080/"
        },
        "id": "Xr08p9TobQ9S",
        "outputId": "eb08edf4-5f7b-49e8-bf47-76efa8120862"
      },
      "execution_count": null,
      "outputs": [
        {
          "output_type": "stream",
          "name": "stdout",
          "text": [
            "[[ 7 47 12 17 13]\n",
            " [47 16 11  5 23]\n",
            " [41 48 19 29 26]]\n",
            "(3, 5)\n"
          ]
        }
      ]
    },
    {
      "cell_type": "markdown",
      "source": [
        "####2. Create a 5x5 NumPy array with values ranging from 1 to 25. Extract:\n",
        "*   The first row\n",
        "*   The last column\n",
        "*   The sub-array from index [1:4, 1:4]"
      ],
      "metadata": {
        "id": "wrdSp8qncFOS"
      }
    },
    {
      "cell_type": "code",
      "source": [
        "import numpy as np\n",
        "arr = np.random.randint(1,26,size=(5,5))\n",
        "print(\"Array: \\n\",arr)\n",
        "print(\"First Row: \\n\",arr[0])\n",
        "print(\"Last Column: \\n\",arr[:,-1])\n",
        "print(\"Sub-Array: \\n\",arr[1:4,1:4])"
      ],
      "metadata": {
        "colab": {
          "base_uri": "https://localhost:8080/"
        },
        "id": "TPA3GY-Tbi1q",
        "outputId": "2a0752de-a79d-4b00-83e1-3930ae2ed940"
      },
      "execution_count": null,
      "outputs": [
        {
          "output_type": "stream",
          "name": "stdout",
          "text": [
            "Array: \n",
            " [[ 1 12 18  2  8]\n",
            " [ 1 20 23 21  7]\n",
            " [23 10  4  9 15]\n",
            " [ 9 17 14  7  3]\n",
            " [16  4 12  9 19]]\n",
            "First Row: \n",
            " [ 1 12 18  2  8]\n",
            "Last Column: \n",
            " [ 8  7 15  3 19]\n",
            "Sub-Array: \n",
            " [[20 23 21]\n",
            " [10  4  9]\n",
            " [17 14  7]]\n"
          ]
        }
      ]
    },
    {
      "cell_type": "markdown",
      "source": [
        "####3. Generate a NumPy array with 10 random floating-point numbers. Compute and print:\n",
        "*   The mean, median, and standard deviation of the array\n",
        "*   An array with each element squared"
      ],
      "metadata": {
        "id": "AGcg7M0kpHtg"
      }
    },
    {
      "cell_type": "code",
      "source": [
        "import numpy as np\n",
        "arr = np.random.rand(10)\n",
        "print(\"Array: \\n\",arr)\n",
        "print(\"Standard Deviation of the array: \",np.std(arr))\n",
        "print(\"Mean of the array: \",np.mean(arr))\n",
        "print(\"Median of the array: \",np.median(arr))\n",
        "print(\"Sqr_Array: \\n\",arr**2)"
      ],
      "metadata": {
        "colab": {
          "base_uri": "https://localhost:8080/"
        },
        "id": "p5Uvgpczc5d2",
        "outputId": "1afefaae-272b-46d9-d76c-9f533545b74e"
      },
      "execution_count": null,
      "outputs": [
        {
          "output_type": "stream",
          "name": "stdout",
          "text": [
            "Array: \n",
            " [0.00729695 0.7140573  0.89147985 0.27679996 0.33516703 0.70159621\n",
            " 0.89313209 0.8953134  0.62313095 0.81200889]\n",
            "Standard Deviation of the array:  0.29164238255505265\n",
            "Mean of the array:  0.6149982601563421\n",
            "Median of the array:  0.7078267506534599\n",
            "Sqr_Array: \n",
            " [5.32454578e-05 5.09877822e-01 7.94736319e-01 7.66182155e-02\n",
            " 1.12336935e-01 4.92237235e-01 7.97684934e-01 8.01586076e-01\n",
            " 3.88292180e-01 6.59358431e-01]\n"
          ]
        }
      ]
    },
    {
      "cell_type": "markdown",
      "source": [
        "#### 4. Create two 3x3 arrays with random integers. Perform and print the results of:\n",
        "*   Element-wise addition\n",
        "*   A dot product of the two arrays"
      ],
      "metadata": {
        "id": "Jd8HcOJ8lmRo"
      }
    },
    {
      "cell_type": "code",
      "source": [
        "import numpy as np\n",
        "mat1 = np.random.randint(1,50,size=(3,3))\n",
        "mat2 = np.random.randint(2,40,size=(3,3))\n",
        "print(\"Matrix 1: \\n\",mat1,\"\\n\",\"Matrix 2: \\n\",mat2)\n",
        "print(\"Sum of two Matrix: \\n\",mat1+mat2)\n",
        "print(\"Multiplication of two Matrix: \\n\",np.dot(mat1,mat2))"
      ],
      "metadata": {
        "colab": {
          "base_uri": "https://localhost:8080/"
        },
        "id": "m_Fmyb21gcAd",
        "outputId": "f65ca6f6-bfb4-4d54-c73c-449ae7163ff2"
      },
      "execution_count": null,
      "outputs": [
        {
          "output_type": "stream",
          "name": "stdout",
          "text": [
            "Matrix 1: \n",
            " [[ 3 32 44]\n",
            " [29 28  9]\n",
            " [ 1 43 22]] \n",
            " Matrix 2: \n",
            " [[16 18 37]\n",
            " [23 30 38]\n",
            " [33  9 32]]\n",
            "Sum of two Matrix: \n",
            " [[19 50 81]\n",
            " [52 58 47]\n",
            " [34 52 54]]\n",
            "Multiplication of two Matrix: \n",
            " [[2236 1410 2735]\n",
            " [1405 1443 2425]\n",
            " [1731 1506 2375]]\n"
          ]
        }
      ]
    },
    {
      "cell_type": "markdown",
      "source": [
        "####5. Create a 1D array with 15 random integers between 10 and 100. Extract all numbers that are:\n",
        "*   Greater than 50\n",
        "*   Divisible by 5"
      ],
      "metadata": {
        "id": "y5-HBOE7nvAL"
      }
    },
    {
      "cell_type": "code",
      "source": [
        "import numpy as np\n",
        "arr = np.random.randint(10,100,size=(15))\n",
        "print(\"Array: \",arr)\n",
        "print(\"Greater than 50: \",arr[arr>50])\n",
        "print(\"Divisible by 5: \",arr[(arr%5==0)])"
      ],
      "metadata": {
        "colab": {
          "base_uri": "https://localhost:8080/"
        },
        "id": "95MAL9ENHwJV",
        "outputId": "cddb2755-1ce8-43da-ddec-83a654eac7ef"
      },
      "execution_count": null,
      "outputs": [
        {
          "output_type": "stream",
          "name": "stdout",
          "text": [
            "Array:  [79 70 50 73 14 27 19 40 39 87 54 67 87 24 61]\n",
            "Greater than 50:  [79 70 73 87 54 67 87 61]\n",
            "Divisible by 5:  [70 50 40]\n"
          ]
        }
      ]
    },
    {
      "cell_type": "markdown",
      "source": [
        "####6. Create a 1D array of size 12 with numbers from 1 to 12. Reshape it into a 3x4 array. Add a 1D array [10, 20, 30, 40] to each row using broadcasting."
      ],
      "metadata": {
        "id": "vtyN-cNdoDc1"
      }
    },
    {
      "cell_type": "code",
      "source": [
        "import numpy as np\n",
        "arr = np.random.randint(1,13,size=(12))\n",
        "print(\"Original_Array: \",arr)\n",
        "arr1 = arr.reshape(3,4)\n",
        "print(\"Reshaped_Array: \\n\",arr1)\n",
        "arr2 = np.array([10,20,30,40])\n",
        "sum = arr1 + arr2\n",
        "print(\"After add a 1D array [10, 20, 30, 40] to each row using broadcasting: \\n\",sum)"
      ],
      "metadata": {
        "colab": {
          "base_uri": "https://localhost:8080/"
        },
        "id": "6yQ_TsYVntrB",
        "outputId": "8ad4b959-965c-45c8-dc48-57a64b2c260b"
      },
      "execution_count": null,
      "outputs": [
        {
          "output_type": "stream",
          "name": "stdout",
          "text": [
            "Original_Array:  [ 2  3  2  5  3 12  3  6  6  7  9  9]\n",
            "Reshaped_Array: \n",
            " [[ 2  3  2  5]\n",
            " [ 3 12  3  6]\n",
            " [ 6  7  9  9]]\n",
            "After add a 1D array [10, 20, 30, 40] to each row using broadcasting: \n",
            " [[12 23 32 45]\n",
            " [13 32 33 46]\n",
            " [16 27 39 49]]\n"
          ]
        }
      ]
    },
    {
      "cell_type": "markdown",
      "source": [
        "####7. Create a 3x3 matrix and compute its:\n",
        "*   Transpose\n",
        "*   Determinant\n",
        "*   Inverse (if it exists)"
      ],
      "metadata": {
        "id": "h3xQjIrXoDNt"
      }
    },
    {
      "cell_type": "code",
      "source": [
        "import numpy as np\n",
        "mat = np.matrix([[4,2,7],[1,8,2],[0,7,9]])\n",
        "print(\"Original_Matrix: \\n\",mat)\n",
        "print(\"Transpose of Matrix: \\n\",mat.T)\n",
        "#print(\"Transpose of Matrix: \\n\",np.transpose(mat))\n",
        "print(\"Determinant of Matrix: \",np.linalg.det(mat).round())\n",
        "print(\"Inverse of Matrix: \\n\",np.linalg.inv(mat))"
      ],
      "metadata": {
        "colab": {
          "base_uri": "https://localhost:8080/"
        },
        "id": "Bl2uSO7lrAWV",
        "outputId": "6bea6764-570f-41e0-c286-dd6e39554a69"
      },
      "execution_count": null,
      "outputs": [
        {
          "output_type": "stream",
          "name": "stdout",
          "text": [
            "Original_Matrix: \n",
            " [[4 2 7]\n",
            " [1 8 2]\n",
            " [0 7 9]]\n",
            "Transpose of Matrix: \n",
            " [[4 1 0]\n",
            " [2 8 7]\n",
            " [7 2 9]]\n",
            "Determinant of Matrix:  263.0\n",
            "Inverse of Matrix: \n",
            " [[ 0.22053232  0.11787072 -0.19771863]\n",
            " [-0.03422053  0.13688213 -0.00380228]\n",
            " [ 0.02661597 -0.10646388  0.11406844]]\n"
          ]
        }
      ]
    },
    {
      "cell_type": "markdown",
      "source": [
        "####8. Create a 1D array of 20 random integers. Replace all elements greater than 50 with -1 using np.where()."
      ],
      "metadata": {
        "id": "lnykZTPnokTE"
      }
    },
    {
      "cell_type": "code",
      "source": [
        "import numpy as np\n",
        "arr = np.random.randint(1,100,size=(20))\n",
        "print(\"Orginal_Array: \",arr)\n",
        "modified_arr = np.where(arr>50,-1,arr)\n",
        "print(\"Modified_Array: \",modified_arr)"
      ],
      "metadata": {
        "colab": {
          "base_uri": "https://localhost:8080/"
        },
        "id": "WmmBliSPylr8",
        "outputId": "b1cd2924-9dbd-4f34-a09b-a5ed2994287d"
      },
      "execution_count": null,
      "outputs": [
        {
          "output_type": "stream",
          "name": "stdout",
          "text": [
            "Orginal_Array:  [37 51  4 19 79 34 13 67 16 50 53 49 19 17 59 26 50 36 13 41]\n",
            "Modified_Array:  [37 -1  4 19 -1 34 13 -1 16 50 -1 49 19 17 -1 26 50 36 13 41]\n"
          ]
        }
      ]
    },
    {
      "cell_type": "markdown",
      "source": [
        "####9. Generate a 1D array of 10 random integers. Sort the array in ascending order and find the index of the number closest to 25."
      ],
      "metadata": {
        "id": "o8jmxzAsoocP"
      }
    },
    {
      "cell_type": "code",
      "source": [
        "import numpy as np\n",
        "arr = np.random.randint(1,100,size=(10))\n",
        "print(\"Orginal_Array: \",arr)\n",
        "sorted_arr = np.sort(arr)\n",
        "print(\"Sorted_Array: \",sorted_arr)\n",
        "find = np.searchsorted(sorted_arr,25)\n",
        "print(\"The index of the number closest to 25: \",find-1)"
      ],
      "metadata": {
        "colab": {
          "base_uri": "https://localhost:8080/"
        },
        "id": "d277QpzDz8JK",
        "outputId": "fd95dce9-5015-459a-9ddf-16c021b06b63"
      },
      "execution_count": null,
      "outputs": [
        {
          "output_type": "stream",
          "name": "stdout",
          "text": [
            "Orginal_Array:  [99 21 87  9 64 76 52 94 83 50]\n",
            "Sorted_Array:  [ 9 21 50 52 64 76 83 87 94 99]\n",
            "The index of the number closest to 25:  1\n"
          ]
        }
      ]
    },
    {
      "cell_type": "markdown",
      "source": [
        "####10. Write a custom function that takes a 1D NumPy array and returns an array with each element increased by 10 if the element is even and decreased by 5 if it is odd. Test the function on a random array."
      ],
      "metadata": {
        "id": "XPwI-GkLooY7"
      }
    },
    {
      "cell_type": "code",
      "source": [
        "import numpy as np\n",
        "def modify_array(arr):\n",
        "  modified_array = np.where(arr%2==0,arr+10,arr-5)\n",
        "  return modified_array\n",
        "arr = np.random.randint(1,50,size=(10))\n",
        "modified_arr = modify_array(arr)\n",
        "print(\"Orginal_Array: \",arr)\n",
        "print(\"Modified_Array: \",modified_arr)"
      ],
      "metadata": {
        "colab": {
          "base_uri": "https://localhost:8080/"
        },
        "id": "mxKWmmYc1hJY",
        "outputId": "161f948d-8d81-481e-b6a7-aa5e02736609"
      },
      "execution_count": null,
      "outputs": [
        {
          "output_type": "stream",
          "name": "stdout",
          "text": [
            "Orginal_Array:  [40 32 41 16 14 47 48 25 21 47]\n",
            "Modified_Array:  [50 42 36 26 24 42 58 20 16 42]\n"
          ]
        }
      ]
    },
    {
      "cell_type": "markdown",
      "source": [
        "####11. Write a program to create a NumPy array with 20 random integers between 1 and 10. Find and print:\n",
        "*   The unique elements in the array.\n",
        "*   The count of each unique element."
      ],
      "metadata": {
        "id": "Ym1Kl06j5Hxf"
      }
    },
    {
      "cell_type": "code",
      "source": [
        "import numpy as np\n",
        "arr = np.random.randint(1,10,size=(20))\n",
        "arr1 = np.unique(arr,return_counts=True)\n",
        "print(arr)\n",
        "print(arr1)"
      ],
      "metadata": {
        "colab": {
          "base_uri": "https://localhost:8080/"
        },
        "id": "4vpTVTng2QQe",
        "outputId": "eeeb4274-26fa-4589-8ebb-53c2f7418a1f"
      },
      "execution_count": null,
      "outputs": [
        {
          "output_type": "stream",
          "name": "stdout",
          "text": [
            "[5 6 1 5 6 8 4 6 6 2 4 6 2 9 2 4 4 5 3 6]\n",
            "(array([1, 2, 3, 4, 5, 6, 8, 9]), array([1, 3, 1, 4, 3, 6, 1, 1]))\n"
          ]
        }
      ]
    },
    {
      "cell_type": "markdown",
      "source": [
        "####12. Write a NumPy program to create a 6×6 matrix with random integers between 1 and 100. Replace all elements that are divisible by 3 with their negative values."
      ],
      "metadata": {
        "id": "wfZF85rj7Cp6"
      }
    },
    {
      "cell_type": "code",
      "source": [
        "import numpy as np\n",
        "mat = np.random.randint(1,100,size=(6,6))\n",
        "print(\"Original_Matrix: \\n\",mat)\n",
        "modified_mat = np.where(mat%3==0,-mat,mat)\n",
        "print(\"Modified_Matrix: \\n\",modified_mat)"
      ],
      "metadata": {
        "colab": {
          "base_uri": "https://localhost:8080/"
        },
        "id": "BFqP60fd5lG7",
        "outputId": "92057cfa-8169-4ccd-b037-0f1bea964e0f"
      },
      "execution_count": null,
      "outputs": [
        {
          "output_type": "stream",
          "name": "stdout",
          "text": [
            "Original_Matrix: \n",
            " [[27 15 96 94 12 66]\n",
            " [32 31  5 16 38 33]\n",
            " [44 25 91 57  1 50]\n",
            " [91 41 93  3 82 71]\n",
            " [84  8 62 13 69 61]\n",
            " [61 23 19 58 64 62]]\n",
            "Modified_Matrix: \n",
            " [[-27 -15 -96  94 -12 -66]\n",
            " [ 32  31   5  16  38 -33]\n",
            " [ 44  25  91 -57   1  50]\n",
            " [ 91  41 -93  -3  82  71]\n",
            " [-84   8  62  13 -69  61]\n",
            " [ 61  23  19  58  64  62]]\n"
          ]
        }
      ]
    },
    {
      "cell_type": "markdown",
      "source": [
        "##**NumPy Combined Challenge**\n",
        "\n",
        "You are given the task of analyzing a dataset using NumPy. Follow the steps below to complete the challenge:\n",
        "\n",
        "###**1. Create Data**\n",
        "*  Generate a 6×6 matrix of random integers between 10 and 100.\n",
        "*  Extract the third row and store it in a separate variable.\n",
        "\n",
        "###**2. Data Manipulation**\n",
        "*  Replace all even numbers in the matrix with -1.\n",
        "*  Reshape the matrix into a 3×12 array.\n",
        "\n",
        "###**3. Mathematical Operations**\n",
        "*  Compute the mean, median, and standard deviation of the reshaped array.\n",
        "*  Normalize the matrix (scale values between 0 and 1).\n",
        "\n",
        "###**4. Linear Algebra Operations**\n",
        "*  Extract the diagonal elements of the original 6×6 matrix.\n",
        "*  Compute the dot product of the diagonal elements with themselves.\n",
        "*  If the original matrix is invertible, find its inverse and determinant.\n",
        "\n",
        "###**5. Boolean Operations**\n",
        "*  Create a mask that selects all values greater than the mean of the matrix.\n",
        "*  Count how many values are greater than the mean.\n",
        "\n",
        "###**6. Sorting & Unique Values**\n",
        "*  Find and print all unique values in the matrix.\n",
        "*  Sort the matrix along each row in ascending order."
      ],
      "metadata": {
        "id": "p6h-YpFGNQ3_"
      }
    },
    {
      "cell_type": "code",
      "source": [
        "import numpy as np\n",
        "arr = np.random.randint(10,100,(6,6))\n",
        "mat = np.matrix(arr)\n",
        "third_row = mat[3,:]\n",
        "print(\"Matrix: \\n\",mat)\n",
        "print(\"Third Row: \",third_row)\n",
        "updated_mat = np.where((mat%2==0),-1,mat)\n",
        "updated_mat = np.reshape(updated_mat,(3,12))\n",
        "print(\"Updated Matrix: \\n\",updated_mat)\n",
        "\n",
        "mean = np.mean(updated_mat).round(2)\n",
        "median = np.median(updated_mat).round(2)\n",
        "standard_deviation = np.std(updated_mat).round(2)\n",
        "print(\"Mean: \",mean)\n",
        "print(\"Median: \",median)\n",
        "print(\"Standard Deviation: \",standard_deviation)\n",
        "min_val = np.min(updated_mat)\n",
        "max_val = np.max(updated_mat)\n",
        "normalized_matrix = (updated_mat - min_val) / (max_val - min_val)\n",
        "print(\"Normalized Matrix: \\n\",normalized_matrix)\n",
        "\n",
        "diagonal_elements = np.diagonal(mat)\n",
        "print(\"Diagonal Elements: \",diagonal_elements)\n",
        "dot_product = np.dot(diagonal_elements,diagonal_elements)\n",
        "print(\"The dot product of the diagonal elements with themselves:\",dot_product)\n",
        "\n",
        "determinant = np.linalg.det(mat)\n",
        "if(determinant!=0):\n",
        "  inverse = np.linalg.inv(mat)\n",
        "  print(\"Inverse of matrix: \\n\",inverse)\n",
        "  print(\"Determinant of matrix: \",determinant.round(2))\n",
        "else:\n",
        "  print(\"Matrix is not Invertible\");\n",
        "\n",
        "mask = mat[mat>mat.mean()]\n",
        "print(\"All values greater than the mean of the matrix: \",mask)\n",
        "print(\"Count of values those are greater than the mean: \",mask.size)\n",
        "\n",
        "uni_val = np.unique(mat)\n",
        "print(\"Unique values of matrix: \",uni_val)\n",
        "sorted_mat = np.sort(mat)\n",
        "print(\"Sorted Matrix: \\n\",sorted_mat)"
      ],
      "metadata": {
        "colab": {
          "base_uri": "https://localhost:8080/"
        },
        "id": "gweJydjFNQox",
        "outputId": "1865f362-57bb-466e-ac8a-396dbf975e81"
      },
      "execution_count": null,
      "outputs": [
        {
          "output_type": "stream",
          "name": "stdout",
          "text": [
            "Matrix: \n",
            " [[90 40 37 50 72 83]\n",
            " [45 88 34 34 48 96]\n",
            " [17 78 12 87 59 52]\n",
            " [19 15 67 88 74 69]\n",
            " [88 62 63 55 42 35]\n",
            " [69 47 75 34 24 37]]\n",
            "Third Row:  [[19 15 67 88 74 69]]\n",
            "Updated Matrix: \n",
            " [[-1 -1 37 -1 -1 83 45 -1 -1 -1 -1 -1]\n",
            " [17 -1 -1 87 59 -1 19 15 67 -1 -1 69]\n",
            " [-1 -1 63 55 -1 35 69 47 75 -1 -1 37]]\n",
            "Mean:  23.89\n",
            "Median:  -1.0\n",
            "Standard Deviation:  30.33\n",
            "Normalized Matrix: \n",
            " [[0.         0.         0.43181818 0.         0.         0.95454545\n",
            "  0.52272727 0.         0.         0.         0.         0.        ]\n",
            " [0.20454545 0.         0.         1.         0.68181818 0.\n",
            "  0.22727273 0.18181818 0.77272727 0.         0.         0.79545455]\n",
            " [0.         0.         0.72727273 0.63636364 0.         0.40909091\n",
            "  0.79545455 0.54545455 0.86363636 0.         0.         0.43181818]]\n",
            "Diagonal Elements:  [90 88 12 88 42 37]\n",
            "The dot product of the diagonal elements with themselves: 26865\n",
            "Inverse of matrix: \n",
            " [[ 0.03007628 -0.02651184  0.02440662 -0.02194362 -0.04662002  0.0520398 ]\n",
            " [-0.03110877  0.03070801 -0.02382564  0.01176709  0.06535561 -0.06017251]\n",
            " [-0.02950665  0.02357783 -0.03216057  0.02295484  0.0525358  -0.04228937]\n",
            " [ 0.05462409 -0.06594108  0.08017152 -0.04007528 -0.14443025  0.14723996]\n",
            " [-0.08394519  0.09106311 -0.11521466  0.07203092  0.23988899 -0.24728901]\n",
            " [ 0.04749496 -0.03583282  0.05100302 -0.0304524  -0.12545472  0.11723899]]\n",
            "Determinant of matrix:  10095386936.0\n",
            "All values greater than the mean of the matrix:  [[90 72 83 88 96 78 87 59 67 88 74 69 88 62 63 69 75]]\n",
            "Count of values those are greater than the mean:  17\n",
            "Unique values of matrix:  [[12 15 17 19 24 34 34 34 35 37 37 40 42 45 47 48 50 52 55 59 62 63 67 69\n",
            "  69 72 74 75 78 83 87 88 88 88 90 96]]\n",
            "Sorted Matrix: \n",
            " [[37 40 50 72 83 90]\n",
            " [34 34 45 48 88 96]\n",
            " [12 17 52 59 78 87]\n",
            " [15 19 67 69 74 88]\n",
            " [35 42 55 62 63 88]\n",
            " [24 34 37 47 69 75]]\n"
          ]
        }
      ]
    },
    {
      "cell_type": "code",
      "source": [],
      "metadata": {
        "id": "Zu2tbeizQdMq"
      },
      "execution_count": null,
      "outputs": []
    }
  ]
}